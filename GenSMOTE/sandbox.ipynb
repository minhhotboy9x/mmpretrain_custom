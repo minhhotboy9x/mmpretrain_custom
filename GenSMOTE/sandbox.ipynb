{
 "cells": [
  {
   "cell_type": "code",
   "execution_count": 2,
   "metadata": {},
   "outputs": [],
   "source": [
    "from train import *"
   ]
  },
  {
   "cell_type": "code",
   "execution_count": 2,
   "metadata": {},
   "outputs": [],
   "source": [
    "train_annotations_file = \"../dataset/final_malaria_full_class_classification/train_annotation.txt\"\n",
    "train_img_dir = \"../dataset/final_malaria_full_class_classification\"\n",
    "\n",
    "val_annotations_file = \"../dataset/final_malaria_full_class_classification/val_annotation.txt\"\n",
    "val_img_dir = \"../dataset/final_malaria_full_class_classification\"\n",
    "\n",
    "train_loader = build_dataloader(train_annotations_file,\n",
    "                            train_img_dir,\n",
    "                            transform, \n",
    "                            batch_size=batch_size, \n",
    "                            minor_classes=[0, 1, 2, 3], \n",
    "                            num_workers=num_workers)\n",
    "\n",
    "val_loader = build_dataloader(val_annotations_file,\n",
    "                                val_img_dir,\n",
    "                                transform=transform,\n",
    "                                batch_size=batch_size, \n",
    "                                minor_classes=[0, 1, 2, 3],\n",
    "                                num_workers=num_workers,\n",
    "                                shuffle=False)\n"
   ]
  },
  {
   "cell_type": "code",
   "execution_count": null,
   "metadata": {},
   "outputs": [],
   "source": [
    "train(model, train_loader, val_loader, criterion, optimizer, epochs, device)"
   ]
  }
 ],
 "metadata": {
  "kernelspec": {
   "display_name": "openmmlab",
   "language": "python",
   "name": "python3"
  },
  "language_info": {
   "codemirror_mode": {
    "name": "ipython",
    "version": 3
   },
   "file_extension": ".py",
   "mimetype": "text/x-python",
   "name": "python",
   "nbconvert_exporter": "python",
   "pygments_lexer": "ipython3",
   "version": "3.10.15"
  }
 },
 "nbformat": 4,
 "nbformat_minor": 2
}
