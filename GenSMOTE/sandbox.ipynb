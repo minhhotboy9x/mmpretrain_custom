{
 "cells": [
  {
   "cell_type": "code",
   "execution_count": 1,
   "metadata": {},
   "outputs": [],
   "source": [
    "from train import *"
   ]
  },
  {
   "cell_type": "code",
   "execution_count": 2,
   "metadata": {},
   "outputs": [],
   "source": [
    "train_annotations_file = \"../dataset/final_malaria_full_class_classification/train_annotation.txt\"\n",
    "train_img_dir = \"../dataset/final_malaria_full_class_classification\"\n",
    "\n",
    "val_annotations_file = \"../dataset/final_malaria_full_class_classification/val_annotation.txt\"\n",
    "val_img_dir = \"../dataset/final_malaria_full_class_classification\"\n",
    "\n",
    "train_loader = build_dataloader(train_annotations_file,\n",
    "                                train_img_dir,\n",
    "                                transform, \n",
    "                                batch_size=batch_size, \n",
    "                                minor_classes=[0, 1, 2, 3],\n",
    "                                remove_major=True,\n",
    "                                num_workers=num_workers,\n",
    "                                shuffle=True)\n",
    "\n",
    "val_loader = build_dataloader(val_annotations_file,\n",
    "                                val_img_dir,\n",
    "                                transform=transform,\n",
    "                                batch_size=batch_size, \n",
    "                                minor_classes=[0, 1, 2, 3],\n",
    "                                remove_major=True,\n",
    "                                num_workers=num_workers,\n",
    "                                shuffle=False)\n"
   ]
  },
  {
   "cell_type": "code",
   "execution_count": 4,
   "metadata": {},
   "outputs": [
    {
     "name": "stderr",
     "output_type": "stream",
     "text": [
      "Epoch [1/100]:   2%|▏         | 4/231 [00:10<09:39,  2.55s/it, Train_Loss=0.797]\n"
     ]
    },
    {
     "ename": "KeyboardInterrupt",
     "evalue": "",
     "output_type": "error",
     "traceback": [
      "\u001b[1;31m---------------------------------------------------------------------------\u001b[0m",
      "\u001b[1;31mKeyboardInterrupt\u001b[0m                         Traceback (most recent call last)",
      "Cell \u001b[1;32mIn[4], line 1\u001b[0m\n\u001b[1;32m----> 1\u001b[0m \u001b[43mtrain\u001b[49m\u001b[43m(\u001b[49m\u001b[43mmodel\u001b[49m\u001b[43m,\u001b[49m\u001b[43m \u001b[49m\u001b[43mtrain_loader\u001b[49m\u001b[43m,\u001b[49m\u001b[43m \u001b[49m\u001b[43mval_loader\u001b[49m\u001b[43m,\u001b[49m\u001b[43m \u001b[49m\u001b[43mcriterion\u001b[49m\u001b[43m,\u001b[49m\u001b[43m \u001b[49m\u001b[43moptimizer\u001b[49m\u001b[43m,\u001b[49m\u001b[43m \u001b[49m\u001b[43mscheduler\u001b[49m\u001b[43m,\u001b[49m\u001b[43m \u001b[49m\u001b[43mepochs\u001b[49m\u001b[43m,\u001b[49m\u001b[43m \u001b[49m\u001b[43mdevice\u001b[49m\u001b[43m)\u001b[49m\n",
      "File \u001b[1;32md:\\malaria prediction\\parasite_v1\\test_code\\mmpretrain\\GenSMOTE\\train.py:124\u001b[0m, in \u001b[0;36mtrain\u001b[1;34m(model, train_loader, val_loader, criterion, optimizer, scheduler, num_epochs, device, log_dir)\u001b[0m\n\u001b[0;32m    121\u001b[0m scaler\u001b[38;5;241m.\u001b[39mupdate()\n\u001b[0;32m    123\u001b[0m \u001b[38;5;66;03m# Cộng dồn loss để tính trung bình\u001b[39;00m\n\u001b[1;32m--> 124\u001b[0m running_loss \u001b[38;5;241m+\u001b[39m\u001b[38;5;241m=\u001b[39m \u001b[43mloss\u001b[49m\u001b[38;5;241;43m.\u001b[39;49m\u001b[43mitem\u001b[49m\u001b[43m(\u001b[49m\u001b[43m)\u001b[49m\n\u001b[0;32m    125\u001b[0m running_R_loss \u001b[38;5;241m+\u001b[39m\u001b[38;5;241m=\u001b[39m R_loss\u001b[38;5;241m.\u001b[39mitem()\n\u001b[0;32m    127\u001b[0m \u001b[38;5;66;03m# Log loss vào TensorBoard mỗi bước\u001b[39;00m\n\u001b[0;32m    128\u001b[0m \u001b[38;5;66;03m# writer.add_scalar('Train/Total_Loss', loss.item(), epoch * len(train_loader) + step)\u001b[39;00m\n\u001b[0;32m    129\u001b[0m \u001b[38;5;66;03m# writer.add_scalar('Train/Reconstruction_Loss', R_loss.item(), epoch * len(train_loader) + step)\u001b[39;00m\n\u001b[0;32m    130\u001b[0m \u001b[38;5;66;03m# writer.add_scalar('Train/Penalty_Loss', P_loss.item(), epoch * len(train_loader) + step)\u001b[39;00m\n\u001b[0;32m    131\u001b[0m \n\u001b[0;32m    132\u001b[0m \u001b[38;5;66;03m# Cập nhật progress bar\u001b[39;00m\n",
      "\u001b[1;31mKeyboardInterrupt\u001b[0m: "
     ]
    }
   ],
   "source": [
    "train(model, train_loader, val_loader, criterion, optimizer, scheduler, epochs, device)"
   ]
  }
 ],
 "metadata": {
  "kernelspec": {
   "display_name": "openmmlab",
   "language": "python",
   "name": "python3"
  },
  "language_info": {
   "codemirror_mode": {
    "name": "ipython",
    "version": 3
   },
   "file_extension": ".py",
   "mimetype": "text/x-python",
   "name": "python",
   "nbconvert_exporter": "python",
   "pygments_lexer": "ipython3",
   "version": "3.10.15"
  }
 },
 "nbformat": 4,
 "nbformat_minor": 2
}
